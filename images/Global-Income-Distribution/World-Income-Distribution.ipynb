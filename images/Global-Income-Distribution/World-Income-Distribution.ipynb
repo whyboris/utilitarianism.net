{
 "cells": [
  {
   "cell_type": "markdown",
   "metadata": {},
   "source": [
    "# Global Income Distribution"
   ]
  },
  {
   "cell_type": "code",
   "execution_count": null,
   "metadata": {},
   "outputs": [],
   "source": [
    "import pandas as pd"
   ]
  },
  {
   "cell_type": "code",
   "execution_count": null,
   "metadata": {},
   "outputs": [],
   "source": [
    "from matplotlib import pyplot as plt"
   ]
  },
  {
   "cell_type": "code",
   "execution_count": null,
   "metadata": {},
   "outputs": [],
   "source": [
    "from matplotlib import ticker as ticker"
   ]
  },
  {
   "cell_type": "code",
   "execution_count": null,
   "metadata": {},
   "outputs": [],
   "source": [
    "import seaborn as sns"
   ]
  },
  {
   "cell_type": "code",
   "execution_count": null,
   "metadata": {},
   "outputs": [],
   "source": [
    "sns.set()"
   ]
  },
  {
   "cell_type": "markdown",
   "metadata": {},
   "source": [
    "### Amazing styling\n",
    "Credit goes to https://www.dataquest.io/blog/making-538-plots/ and _FiveThirtyEight_ and creator of the _matplotlib_ style"
   ]
  },
  {
   "cell_type": "code",
   "execution_count": null,
   "metadata": {},
   "outputs": [],
   "source": [
    "import matplotlib.style as style"
   ]
  },
  {
   "cell_type": "code",
   "execution_count": null,
   "metadata": {},
   "outputs": [],
   "source": [
    "style.use('fivethirtyeight')"
   ]
  },
  {
   "cell_type": "markdown",
   "metadata": {},
   "source": [
    "## Load data"
   ]
  },
  {
   "cell_type": "code",
   "execution_count": null,
   "metadata": {},
   "outputs": [],
   "source": [
    "new2023 = pd.read_csv('data-from-gwwc.csv')"
   ]
  },
  {
   "cell_type": "code",
   "execution_count": null,
   "metadata": {},
   "outputs": [],
   "source": [
    "new2023.head()"
   ]
  },
  {
   "cell_type": "code",
   "execution_count": null,
   "metadata": {},
   "outputs": [],
   "source": [
    "new2023.tail()"
   ]
  },
  {
   "cell_type": "markdown",
   "metadata": {},
   "source": [
    "## Graph data"
   ]
  },
  {
   "cell_type": "code",
   "execution_count": null,
   "metadata": {},
   "outputs": [],
   "source": [
    "line_color = \"#0b3b5b\"\n",
    "light_line_color = \"#0e4163\""
   ]
  },
  {
   "cell_type": "code",
   "execution_count": null,
   "metadata": {},
   "outputs": [],
   "source": [
    "sns.set(rc={'figure.facecolor':'white', 'axes.facecolor': 'white', 'grid.color': '0.90', 'grid.linestyle': ':'})\n",
    "\n",
    "chart = sns.relplot(\n",
    "  x=\"x\", \n",
    "  y=\"y\",\n",
    "  kind=\"line\", \n",
    "  data=new2023, \n",
    "  color=line_color,\n",
    "  height=8,\n",
    "  aspect=16/9\n",
    ")\n",
    "\n",
    "chart.axes[0][0].yaxis.set_major_locator(ticker.MultipleLocator(10000))\n",
    "chart.axes[0][0].yaxis.set_major_formatter(ticker.ScalarFormatter())\n",
    "\n",
    "chart.axes[0][0].xaxis.set_major_locator(ticker.MultipleLocator(5))\n",
    "chart.axes[0][0].xaxis.set_major_formatter(ticker.ScalarFormatter())\n",
    "\n",
    "chart.axes[0][0].set_title(\"\", fontsize=30)\n",
    "chart.axes[0][0].set_xlabel(\"\",fontsize=16)\n",
    "chart.axes[0][0].set_ylabel(\"\",fontsize=16)\n",
    "\n",
    "# empty character placed above the title to give title more space above\n",
    "chart.axes[0][0].text(\n",
    "  x = -8, \n",
    "  y = 125000, \n",
    "  s = \" \")\n",
    "\n",
    "chart.axes[0][0].text(\n",
    "  x = -8, \n",
    "  y = 120000, \n",
    "  s = \"Global Income Distribution 2023\",\n",
    "     fontsize = 26, weight = 'bold', alpha = .75)\n",
    "\n",
    "chart.axes[0][0].text(\n",
    "  x = -8, \n",
    "  y = 113500,\n",
    "  s = 'Percentile of world population vs income per household member',\n",
    "  fontsize = 18, alpha = .85)\n",
    "\n",
    "chart.axes[0][0].text(\n",
    "  x = -8, \n",
    "  y = 108000,\n",
    "  s = 'Incomes are adjusted and expressed in international dollars (2017 PPP - Purchasing Power Parity)',\n",
    "  fontsize = 14, alpha = .85)\n",
    "\n",
    "ticks_x = chart.axes[0][0].get_xticks()\n",
    "xlabels = ['{:,.0f}'.format(x) + '%' for x in ticks_x]\n",
    "chart.set_xticklabels(xlabels)\n",
    "\n",
    "# hide every 2nd x-axis tick label\n",
    "for label in chart.ax.xaxis.get_ticklabels()[::2]:\n",
    "    label.set_visible(False)\n",
    "\n",
    "ticks_y = chart.axes[0][0].get_yticks()\n",
    "ylabels = ['$' + '{:,.0f}'.format(y) for y in ticks_y]\n",
    "chart.set_yticklabels(ylabels)\n",
    "\n",
    "chart.axes[0][0].axhline(y = 0,     color = 'black', linewidth = 1.3, alpha = .7)     # horizonal line on bottom\n",
    "\n",
    "chart.axes[0][0].axvline(x = 0,     color = 'black', linewidth = 1.3, alpha = .7)   # vertical line on left\n",
    "chart.axes[0][0].axvline(x = 100,   color = 'black', linewidth = 1.3, alpha = .7)   # vertical line on right\n",
    "\n",
    "# college graduate income\n",
    "chart.axes[0][0].hlines(y = 59000, linestyle='dashed', color=light_line_color, linewidth = 2, alpha = .3, xmin=0, xmax=98.7) \n",
    "chart.axes[0][0].vlines(x = 98.7, linestyle='dashed', color=light_line_color, linewidth = 2, alpha = .3, ymin=0, ymax=60000) \n",
    "\n",
    "chart.axes[0][0].text(\n",
    "  x = 40.6, \n",
    "  y = 60800, \n",
    "  s = \"Median US college graduate salary\",\n",
    "  color = light_line_color,\n",
    "  fontsize = 14, \n",
    "#   weight = 'bold', \n",
    "  alpha = .75)\n",
    "\n",
    "\n",
    "chart.axes[0][0].tick_params(labelsize=14)\n",
    "\n",
    "chart.axes[0][0].set_ylim(-400,104000)\n",
    "chart.axes[0][0].set_xlim(-0.1, 100.1)\n",
    "\n",
    "# SIGNATURE BAR\n",
    "chart.axes[0][0].text(\n",
    "    x = -10, \n",
    "    y = -12000,\n",
    "    s = ' Data Source: Our World in Data / World Bank Poverty and Inequality Platform                                                                                                       Licenced under CC-BY-SA by Boris Yakubchik (2024) ',\n",
    "    fontsize = 12, \n",
    "    color = '#ffffff', \n",
    "    backgroundcolor = '0.3')\n",
    "\n",
    "chart.axes[0][0].tick_params(axis='x', which='major', pad=15)\n",
    "chart.axes[0][0].tick_params(axis='y', which='major', pad=15)\n",
    "\n",
    "chart.axes[0][0].plot(98.7, 59000, 'o', color=light_line_color, alpha=0.75) "
   ]
  },
  {
   "cell_type": "markdown",
   "metadata": {},
   "source": [
    "## Save SVG"
   ]
  },
  {
   "cell_type": "code",
   "execution_count": null,
   "metadata": {},
   "outputs": [],
   "source": [
    "chart.savefig(\"World-Income-Distribution.svg\", format='svg', facecolor=\"white\")"
   ]
  }
 ],
 "metadata": {
  "kernelspec": {
   "display_name": "Python 3 (ipykernel)",
   "language": "python",
   "name": "python3"
  },
  "language_info": {
   "codemirror_mode": {
    "name": "ipython",
    "version": 3
   },
   "file_extension": ".py",
   "mimetype": "text/x-python",
   "name": "python",
   "nbconvert_exporter": "python",
   "pygments_lexer": "ipython3",
   "version": "3.8.10"
  }
 },
 "nbformat": 4,
 "nbformat_minor": 4
}
